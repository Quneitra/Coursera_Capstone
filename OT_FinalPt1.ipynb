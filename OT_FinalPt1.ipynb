{
    "nbformat_minor": 1, 
    "cells": [
        {
            "source": "#     DC On the Invisible Front - OT Capstone Project", 
            "cell_type": "markdown", 
            "metadata": {
                "collapsed": true
            }
        }, 
        {
            "source": "### Business Problem", 
            "cell_type": "markdown", 
            "metadata": {}
        }, 
        {
            "source": "Washington D.C. is truly a city of spies. Being the political capital of the United States of America, a major economic and technology hub, and with diplomatic representation from dozens of countries, it isn't surprising that espionage is a part of the city as well. Indeed, Oleg Kalugin, in his introduction video for the International Spy Musem - also located in DC - mentions that more Russian agents were active in the city* in the 90s than at any point since the start of the Cold War. Through various means, foreign handlers entice people to spy on their own country for the benefit of foreign powers, whether by providing secrets, influencing opinions, or other actions.\n\nHowever, in order for information to be exchanged, handlers must somehow communicate with their spies, which is a very sensitive art in of itself. Most famous are the \"dead drops\"/\"dead-letter boxes\", which are concealled locations in which various items can be placed; one of the most iconic ones is a USPS mailbox used by Aldrich Ames, one of the most damaging spies in American history. Handlers will also often meet with their agents in person, and other means of communication exist as well. Appropriate meeting and dead drop locations are selected based on a variety of factors, such as traffic and accessibility of the site.\n\nProper urban planning is vital to the successful and continued development of a city. For this, it is important to know what the neighborhoods of the city are like, and how residential and commercial zones are distributed. As an example, a city with significantly fewer residential zones to commercial zones is likely rapidly growing and requires more living space; in turn, significantly more residential zones suggest commercial underdevelopment and should try attract more investment. Also, knowing what sites, resources, and venues exist - or are lacking - in a neighborhood will allow for better marketing towards investors, better community outreach to residents, and just a better idea overall for future planning.", 
            "cell_type": "markdown", 
            "metadata": {}
        }, 
        {
            "source": "In this project, the goal is to see if possible \"hotspots\" for foreign agent activity can be identified in Washington D.C. Using the Foursquare API to find the venues of each of the city's 131 neighborhoods, and knowing the details of some publicized espionage cases (eg. Ames' mailbox in the neighborhood of Burleith), this project's goal is to try to identifiy potential \"hotspots\" for foreign agent activity in Washington D.C., by seeing how similar other neighborhoods\n\nIn this project, the goal is to understand the \"shape\" of the neighborhoods of the city of Washington DC, and if there is anything of note - eg. very few residential spaces - in the city. Washington DC was selected for this project as it is a major city in the United States, has been experiencing significant growth in the past few years, and is limited in how it can expand due to geographical and political reasons, which should hopefully make for an interesting case study.", 
            "cell_type": "markdown", 
            "metadata": {}
        }, 
        {
            "source": "### Data", 
            "cell_type": "markdown", 
            "metadata": {}
        }, 
        {
            "source": "Data on the neighborhoods, wards, and their populations will come from Wikipedia and/or the DC OpenData project. All else will come from the Foursquare location data.", 
            "cell_type": "markdown", 
            "metadata": {}
        }, 
        {
            "execution_count": null, 
            "cell_type": "code", 
            "metadata": {}, 
            "outputs": [], 
            "source": ""
        }
    ], 
    "metadata": {
        "kernelspec": {
            "display_name": "Python 3.6", 
            "name": "python3", 
            "language": "python"
        }, 
        "language_info": {
            "mimetype": "text/x-python", 
            "nbconvert_exporter": "python", 
            "version": "3.6.8", 
            "name": "python", 
            "file_extension": ".py", 
            "pygments_lexer": "ipython3", 
            "codemirror_mode": {
                "version": 3, 
                "name": "ipython"
            }
        }
    }, 
    "nbformat": 4
}