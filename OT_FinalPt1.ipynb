{
    "nbformat_minor": 1, 
    "cells": [
        {
            "source": "#     DC On the Invisible Front - OT Capstone Project", 
            "cell_type": "markdown", 
            "metadata": {
                "collapsed": true
            }
        }, 
        {
            "source": "### Business Problem", 
            "cell_type": "markdown", 
            "metadata": {}
        }, 
        {
            "source": "Washington D.C. is truly a city of spies. Being the political capital of the United States of America, a major economic and technology hub, and with diplomatic representation from dozens of countries, it isn't surprising that espionage is a part of the city as well. Indeed, Oleg Kalugin, in his introduction video for the International Spy Musem - also located in DC - mentions that more Russian agents were active in the city* in the 90s than at any point since the start of the Cold War. Through various means, foreign handlers entice people to spy on their own country for the benefit of foreign powers, whether by providing secrets, influencing opinions, or other actions.\n\nHowever, in order for information to be exchanged, handlers must somehow communicate with their spies, which is a very sensitive art in of itself. Most famous are the \"dead drops\"/\"dead-letter boxes\", which are concealled locations in which various items can be placed; one of the most iconic ones is a USPS mailbox used by Aldrich Ames, one of the most damaging spies in American history. Handlers will also often meet with their agents in person, and other means of communication exist as well. Appropriate meeting and dead drop locations are selected based on a variety of factors, such as traffic and accessibility of the site.\n\n*(Based on personal memory - please comment if incorrect)", 
            "cell_type": "markdown", 
            "metadata": {}
        }, 
        {
            "source": "Using the Foursquare API to find the points of interest for each of the city's 131 neighborhoods, and knowing the location details of some publicized espionage cases (eg. Ames' mailbox being in the neighborhood of Burleith), this project's goal is to try to identifiy potential \"hotspots\" for foreign agent activity in Washington D.C., by seeing how similar other neighborhoods are to those known to have been used in espionage.", 
            "cell_type": "markdown", 
            "metadata": {}
        }, 
        {
            "source": "### Data", 
            "cell_type": "markdown", 
            "metadata": {}
        }, 
        {
            "source": "Data on the neighborhoods and their geographical location will come from the DC OpenData project and/or Wikipedia. Data on espionage cases will come from books on these subjects and Google searches. All else will come from the Foursquare API.", 
            "cell_type": "markdown", 
            "metadata": {}
        }
    ], 
    "metadata": {
        "kernelspec": {
            "display_name": "Python 3.6", 
            "name": "python3", 
            "language": "python"
        }, 
        "language_info": {
            "mimetype": "text/x-python", 
            "nbconvert_exporter": "python", 
            "version": "3.6.8", 
            "name": "python", 
            "file_extension": ".py", 
            "pygments_lexer": "ipython3", 
            "codemirror_mode": {
                "version": 3, 
                "name": "ipython"
            }
        }
    }, 
    "nbformat": 4
}