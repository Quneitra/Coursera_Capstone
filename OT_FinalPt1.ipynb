{
    "nbformat_minor": 1, 
    "cells": [
        {
            "source": "#     OT Capstone Project - Urban Planning", 
            "cell_type": "markdown", 
            "metadata": {
                "collapsed": true
            }
        }, 
        {
            "source": "### Business Problem", 
            "cell_type": "markdown", 
            "metadata": {}
        }, 
        {
            "source": "Proper urban planning is vital to the successful and continued development of a city. For this, it is important to know what the neighborhoods of the city are like, and how residential and commercial zones are distributed. As an example, a city with significantly fewer residential zones to commercial zones is likely rapidly growing and requires more living space; in turn, significantly more residential zones suggest commercial underdevelopment and should try attract more investment. Also, knowing what sites, resources, and venues exist - or are lacking - in a neighborhood will allow for better marketing towards investors, better community outreach to residents, and just a better idea overall for future planning.", 
            "cell_type": "markdown", 
            "metadata": {}
        }, 
        {
            "source": "In this project, the goal is to understand the \"shape\" of the neighborhoods of the city of Washington DC, and if there is anything of note - eg. very few residential spaces - in the city. Washington DC was selected for this project as it is a major city in the United States, has been experiencing significant growth in the past few years, and is limited in how it can expand due to geographical and political reasons, which should hopefully make for an interesting case study.", 
            "cell_type": "markdown", 
            "metadata": {}
        }, 
        {
            "source": "### Data", 
            "cell_type": "markdown", 
            "metadata": {}
        }, 
        {
            "source": "Data on the neighborhoods, wards, and their populations will come from Wikipedia and/or the DC OpenData project. All else will come from the Foursquare location data.", 
            "cell_type": "markdown", 
            "metadata": {}
        }, 
        {
            "execution_count": null, 
            "cell_type": "code", 
            "metadata": {}, 
            "outputs": [], 
            "source": ""
        }
    ], 
    "metadata": {
        "kernelspec": {
            "display_name": "Python 3.6", 
            "name": "python3", 
            "language": "python"
        }, 
        "language_info": {
            "mimetype": "text/x-python", 
            "nbconvert_exporter": "python", 
            "version": "3.6.8", 
            "name": "python", 
            "file_extension": ".py", 
            "pygments_lexer": "ipython3", 
            "codemirror_mode": {
                "version": 3, 
                "name": "ipython"
            }
        }
    }, 
    "nbformat": 4
}